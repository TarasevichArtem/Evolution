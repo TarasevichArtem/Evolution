{
  "nbformat": 4,
  "nbformat_minor": 0,
  "metadata": {
    "kernelspec": {
      "display_name": "Python 3",
      "language": "python",
      "name": "python3"
    },
    "colab": {
      "name": "Evolution_without_screen.ipynb",
      "provenance": [],
      "collapsed_sections": []
    }
  },
  "cells": [
    {
      "cell_type": "code",
      "metadata": {
        "id": "rkGn1LlNftF2",
        "colab": {
          "base_uri": "https://localhost:8080/"
        },
        "outputId": "54a95a29-e571-4d5a-bb9f-a5464343f573"
      },
      "source": [
        "%pip install pygame\n",
        "import numpy as np\n",
        "import math\n",
        "import pygame\n",
        "import sys\n",
        "import random\n",
        "import copy\n",
        "import os"
      ],
      "execution_count": 1,
      "outputs": [
        {
          "output_type": "stream",
          "name": "stdout",
          "text": [
            "Collecting pygame\n",
            "  Downloading pygame-2.1.2-cp37-cp37m-manylinux_2_17_x86_64.manylinux2014_x86_64.whl (21.8 MB)\n",
            "\u001b[K     |████████████████████████████████| 21.8 MB 1.1 MB/s \n",
            "\u001b[?25hInstalling collected packages: pygame\n",
            "Successfully installed pygame-2.1.2\n",
            "pygame 2.1.2 (SDL 2.0.16, Python 3.7.12)\n",
            "Hello from the pygame community. https://www.pygame.org/contribute.html\n"
          ]
        }
      ]
    },
    {
      "cell_type": "code",
      "metadata": {
        "id": "0h78nY-sftF7"
      },
      "source": [
        "FPS = 60\n",
        "BLACK = (0, 0, 0)\n",
        "WITHE = (255, 255, 255)\n",
        "YELLOW = (255, 255, 0)\n",
        "VISION = 100"
      ],
      "execution_count": 2,
      "outputs": []
    },
    {
      "cell_type": "code",
      "metadata": {
        "id": "FEiIB7QzftF-"
      },
      "source": [
        "class AI(pygame.sprite.Sprite):\n",
        "    def __init__(self):\n",
        "        pygame.sprite.Sprite.__init__(self)\n",
        "        self.genom = [np.random.rand(4, 5), np.random.rand(5, 2)]\n",
        "        self.x = random.randint(0, 1000)\n",
        "        self.y = random.randint(0, 1000)\n",
        "        self.xV = 0\n",
        "        self.yV = 0\n",
        "        self.food = random.randint(0, 10)\n",
        "        self.damage = random.randint(0, 10)\n",
        "        self.defend = random.randint(0, 10)\n",
        "        self.energy = 100\n",
        "        self.image = pygame.transform.scale(pygame.image.load('individ.png').convert_alpha(), (20, 20))\n",
        "        self.rect = self.image.get_rect(center=(self.x, self.y))\n",
        "    \n",
        "    def f(self, x):\n",
        "        return (math.e ** x - math.e ** (-x)) / (math.e ** x + math.e ** (-x))\n",
        "    \n",
        "    def calculate(self, inputValue):\n",
        "        sig = np.vectorize(self.f)\n",
        "        hiddenValue = np.matrix(sig(inputValue * self.genom[0]))\n",
        "        outputValue = sig(hiddenValue * self.genom[1])\n",
        "        return np.array(outputValue)\n",
        "        \n",
        "    def do(self, inputValue):\n",
        "        outputValue = self.calculate(inputValue)\n",
        "        self.xV += np.sign(outputValue[0][0]) if self.xV <= 10 else 0\n",
        "        self.yV += np.sign(outputValue[0][1]) if self.yV <= 10 else 0\n",
        "        self.x += self.xV\n",
        "        self.y += self.yV\n",
        "        self.rect.x = self.x\n",
        "        self.rect.y = self.y\n",
        "        self.energy -= 1\n",
        "        \n",
        "    def eat(self):\n",
        "        self.energy += 50\n",
        "    \n",
        "    def copy(self):\n",
        "        newIndivid = AI()\n",
        "        newIndivid.x = self.x + 10\n",
        "        newIndivid.y = self.y + 10\n",
        "        newIndivid.genom = [list(self.genom[0]), list(self.genom[1])]\n",
        "        rand = random.randint(0, 100)\n",
        "        if rand < 5:\n",
        "            newIndivid.genom[0][random.randint(0, 3)][random.randint(0, 4)] = random.random()\n",
        "        elif rand > 5 and rand < 10:\n",
        "            newIndivid.genom[1][random.randint(0, 4)][random.randint(0, 1)] = random.random()\n",
        "        newIndivid.genom = [np.array(newIndivid.genom[0]), np.array(newIndivid.genom[1])]\n",
        "        newIndivid.energy = self.energy // 2\n",
        "        self.energy //= 2\n",
        "        return newIndivid"
      ],
      "execution_count": 3,
      "outputs": []
    },
    {
      "cell_type": "code",
      "metadata": {
        "id": "urBvH2xCftGB"
      },
      "source": [
        "class Food(pygame.sprite.Sprite):\n",
        "    def __init__(self):\n",
        "        pygame.sprite.Sprite.__init__(self)\n",
        "        self.x = np.random.randint(0, 1000)\n",
        "        self.y = np.random.randint(0, 1000)\n",
        "        self.image = pygame.transform.scale(pygame.image.load('food.jpg').convert_alpha(), (10, 10))\n",
        "        self.rect = self.image.get_rect(center=(self.x, self.y))"
      ],
      "execution_count": 4,
      "outputs": []
    },
    {
      "cell_type": "code",
      "metadata": {
        "id": "BdQwzd_sNTfE"
      },
      "source": [
        "class AI(pygame.sprite.Sprite):\n",
        "    def __init__(self):\n",
        "        pygame.sprite.Sprite.__init__(self)\n",
        "        self.genom = [np.random.rand(4, 5), np.random.rand(5, 2)]\n",
        "        self.x = random.randint(0, 1000)\n",
        "        self.y = random.randint(0, 1000)\n",
        "        self.xV = 0\n",
        "        self.yV = 0\n",
        "        self.food = random.randint(0, 10)\n",
        "        self.damage = random.randint(0, 10)\n",
        "        self.defend = random.randint(0, 10)\n",
        "        self.energy = 100\n",
        "        self.image = pygame.transform.scale(pygame.image.load('individ.png').convert_alpha(), (20, 20))\n",
        "        self.rect = self.image.get_rect(center=(self.x, self.y))\n",
        "    \n",
        "    def f(self, x):\n",
        "        return (math.e ** x - math.e ** (-x)) / (math.e ** x + math.e ** (-x))\n",
        "    \n",
        "    def calculate(self, inputValue):\n",
        "        sig = np.vectorize(self.f)\n",
        "        hiddenValue = np.matrix(sig(inputValue * self.genom[0]))\n",
        "        outputValue = sig(hiddenValue * self.genom[1])\n",
        "        #print(outputValue)\n",
        "        return np.array(outputValue)\n",
        "        \n",
        "    def do(self, inputValue):\n",
        "        outputValue = self.calculate(inputValue)\n",
        "        self.xV += np.sign(outputValue[0][0]) if self.xV <= 10 else 0\n",
        "        self.yV += np.sign(outputValue[0][1]) if self.yV <= 10 else 0\n",
        "        self.x += self.xV\n",
        "        self.y += self.yV\n",
        "        self.rect.x = self.x\n",
        "        self.rect.y = self.y\n",
        "        self.energy -= 1\n",
        "        \n",
        "    def eat(self):\n",
        "        self.energy += 50\n",
        "    \n",
        "    def copy(self):\n",
        "        newIndivid = AI()\n",
        "        newIndivid.x = self.x + 10\n",
        "        newIndivid.y = self.y + 10\n",
        "        newIndivid.genom = [list(self.genom[0]), list(self.genom[1])]\n",
        "        rand = random.randint(0, 100)\n",
        "        if rand < 5:\n",
        "            newIndivid.genom[0][random.randint(0, 3)][random.randint(0, 4)] = random.random()\n",
        "        elif rand > 5 and rand < 10:\n",
        "            newIndivid.genom[1][random.randint(0, 4)][random.randint(0, 1)] = random.random()\n",
        "        newIndivid.genom = [np.array(newIndivid.genom[0]), np.array(newIndivid.genom[1])]\n",
        "        newIndivid.energy = self.energy // 2\n",
        "        self.energy //= 2\n",
        "        return newIndivid"
      ],
      "execution_count": 5,
      "outputs": []
    },
    {
      "cell_type": "code",
      "metadata": {
        "id": "WY-Pk3k_NTfM"
      },
      "source": [
        "class Food(pygame.sprite.Sprite):\n",
        "    def __init__(self):\n",
        "        pygame.sprite.Sprite.__init__(self)\n",
        "        self.x = np.random.randint(0, 1000)\n",
        "        self.y = np.random.randint(0, 1000)\n",
        "        self.image = pygame.transform.scale(pygame.image.load('food.jpg').convert_alpha(), (10, 10))\n",
        "        self.rect = self.image.get_rect(center=(self.x, self.y))"
      ],
      "execution_count": 6,
      "outputs": []
    },
    {
      "cell_type": "code",
      "metadata": {
        "id": "9FJ_DEmoftGE"
      },
      "source": [
        "class Manager:\n",
        "    def __init__(self):\n",
        "        self.individs = [AI() for i in range(25)]\n",
        "        self.foods = [Food() for i in range(200)]\n",
        "        \n",
        "    def dist(self, a, b):\n",
        "        return ((a.x - b.x) ** 2 + (a.y - b.y) ** 2) ** 0.5\n",
        "    \n",
        "    def data(self, objects):\n",
        "        vis = [[np.array([j.x, j.y]) for j in objects if self.dist(i, j) <= VISION and i != j] for i in self.individs]\n",
        "        v = [sum(i) // len(i) if len(i) != 0 else np.array([0, 0]) for i in vis]\n",
        "        return v\n",
        "    \n",
        "    def eat(self, per):\n",
        "        [[self.foods.remove(i), j[0].eat()] for i, j in per.items()]\n",
        "        \n",
        "    def step(self):\n",
        "        inputEats = self.data(self.foods)\n",
        "        inputIndivids = self.data(self.individs)\n",
        "        [ai.do(np.matrix([(eat[0] - ai.x) / VISION, (eat[1] - ai.y) / VISION, (individ[0] - ai.x) / VISION, (individ[1] - ai.y) / VISION])) for ai, eat, individ in zip(self.individs, inputEats, inputIndivids)]\n",
        "        self.eat(pygame.sprite.groupcollide(self.foods, self.individs, False, False, pygame.sprite.collide_mask))\n",
        "        [self.individs.remove(i) for i in self.individs if i.energy <= 0]\n",
        "        [self.individs.append(i.copy()) for i in self.individs if i.energy >= 100]\n",
        "        self.foods.extend([Food() for i in range(1)])\n",
        "        return self.individs, self.foods"
      ],
      "execution_count": 7,
      "outputs": []
    },
    {
      "cell_type": "code",
      "metadata": {
        "id": "t7L02H2XftGH"
      },
      "source": [
        "def engEvent(): \n",
        "    for i in pygame.event.get(): \n",
        "        if i.type == pygame.QUIT: \n",
        "            pygame.quit() \n",
        "            sys.exit() "
      ],
      "execution_count": 8,
      "outputs": []
    },
    {
      "cell_type": "code",
      "metadata": {
        "id": "O2VE11HYftGK",
        "colab": {
          "base_uri": "https://localhost:8080/",
          "height": 396
        },
        "outputId": "6c0ad86c-203d-4da7-ed96-3c2dabd327c2"
      },
      "source": [
        "pygame.init()\n",
        "os.environ['SDL_VIDEODRIVER'] = 'dummy'\n",
        "screen = pygame.display.set_mode((1000, 1000), pygame.HWSURFACE|pygame.DOUBLEBUF) \n",
        "pygame.display.set_caption(\"My Game\") \n",
        "clock = pygame.time.Clock() \n",
        "\n",
        "manager = Manager()\n",
        " \n",
        "t = 0 \n",
        "while 1: \n",
        "    engEvent() \n",
        "    clock.tick(60) \n",
        "    individs, foods = manager.step()\n",
        "     \n",
        "    [screen.blit(i.image, i.rect) for i in individs]\n",
        "    \n",
        "    [screen.blit(i.image, i.rect) for i in foods]\n",
        "    \n",
        "    if len(individs) <= 0:\n",
        "        manager = Manager()\n",
        "    \n",
        "     \n",
        "    t += 0.1 \n",
        "    pygame.display.flip() \n",
        "    screen.fill(WITHE)"
      ],
      "execution_count": 9,
      "outputs": [
        {
          "output_type": "error",
          "ename": "FileNotFoundError",
          "evalue": "ignored",
          "traceback": [
            "\u001b[0;31m---------------------------------------------------------------------------\u001b[0m",
            "\u001b[0;31mFileNotFoundError\u001b[0m                         Traceback (most recent call last)",
            "\u001b[0;32m<ipython-input-9-61c7c65627a9>\u001b[0m in \u001b[0;36m<module>\u001b[0;34m()\u001b[0m\n\u001b[1;32m      5\u001b[0m \u001b[0mclock\u001b[0m \u001b[0;34m=\u001b[0m \u001b[0mpygame\u001b[0m\u001b[0;34m.\u001b[0m\u001b[0mtime\u001b[0m\u001b[0;34m.\u001b[0m\u001b[0mClock\u001b[0m\u001b[0;34m(\u001b[0m\u001b[0;34m)\u001b[0m\u001b[0;34m\u001b[0m\u001b[0;34m\u001b[0m\u001b[0m\n\u001b[1;32m      6\u001b[0m \u001b[0;34m\u001b[0m\u001b[0m\n\u001b[0;32m----> 7\u001b[0;31m \u001b[0mmanager\u001b[0m \u001b[0;34m=\u001b[0m \u001b[0mManager\u001b[0m\u001b[0;34m(\u001b[0m\u001b[0;34m)\u001b[0m\u001b[0;34m\u001b[0m\u001b[0;34m\u001b[0m\u001b[0m\n\u001b[0m\u001b[1;32m      8\u001b[0m \u001b[0;34m\u001b[0m\u001b[0m\n\u001b[1;32m      9\u001b[0m \u001b[0mt\u001b[0m \u001b[0;34m=\u001b[0m \u001b[0;36m0\u001b[0m\u001b[0;34m\u001b[0m\u001b[0;34m\u001b[0m\u001b[0m\n",
            "\u001b[0;32m<ipython-input-7-8f88c857f5cc>\u001b[0m in \u001b[0;36m__init__\u001b[0;34m(self)\u001b[0m\n\u001b[1;32m      1\u001b[0m \u001b[0;32mclass\u001b[0m \u001b[0mManager\u001b[0m\u001b[0;34m:\u001b[0m\u001b[0;34m\u001b[0m\u001b[0;34m\u001b[0m\u001b[0m\n\u001b[1;32m      2\u001b[0m     \u001b[0;32mdef\u001b[0m \u001b[0m__init__\u001b[0m\u001b[0;34m(\u001b[0m\u001b[0mself\u001b[0m\u001b[0;34m)\u001b[0m\u001b[0;34m:\u001b[0m\u001b[0;34m\u001b[0m\u001b[0;34m\u001b[0m\u001b[0m\n\u001b[0;32m----> 3\u001b[0;31m         \u001b[0mself\u001b[0m\u001b[0;34m.\u001b[0m\u001b[0mindivids\u001b[0m \u001b[0;34m=\u001b[0m \u001b[0;34m[\u001b[0m\u001b[0mAI\u001b[0m\u001b[0;34m(\u001b[0m\u001b[0;34m)\u001b[0m \u001b[0;32mfor\u001b[0m \u001b[0mi\u001b[0m \u001b[0;32min\u001b[0m \u001b[0mrange\u001b[0m\u001b[0;34m(\u001b[0m\u001b[0;36m25\u001b[0m\u001b[0;34m)\u001b[0m\u001b[0;34m]\u001b[0m\u001b[0;34m\u001b[0m\u001b[0;34m\u001b[0m\u001b[0m\n\u001b[0m\u001b[1;32m      4\u001b[0m         \u001b[0mself\u001b[0m\u001b[0;34m.\u001b[0m\u001b[0mfoods\u001b[0m \u001b[0;34m=\u001b[0m \u001b[0;34m[\u001b[0m\u001b[0mFood\u001b[0m\u001b[0;34m(\u001b[0m\u001b[0;34m)\u001b[0m \u001b[0;32mfor\u001b[0m \u001b[0mi\u001b[0m \u001b[0;32min\u001b[0m \u001b[0mrange\u001b[0m\u001b[0;34m(\u001b[0m\u001b[0;36m200\u001b[0m\u001b[0;34m)\u001b[0m\u001b[0;34m]\u001b[0m\u001b[0;34m\u001b[0m\u001b[0;34m\u001b[0m\u001b[0m\n\u001b[1;32m      5\u001b[0m \u001b[0;34m\u001b[0m\u001b[0m\n",
            "\u001b[0;32m<ipython-input-7-8f88c857f5cc>\u001b[0m in \u001b[0;36m<listcomp>\u001b[0;34m(.0)\u001b[0m\n\u001b[1;32m      1\u001b[0m \u001b[0;32mclass\u001b[0m \u001b[0mManager\u001b[0m\u001b[0;34m:\u001b[0m\u001b[0;34m\u001b[0m\u001b[0;34m\u001b[0m\u001b[0m\n\u001b[1;32m      2\u001b[0m     \u001b[0;32mdef\u001b[0m \u001b[0m__init__\u001b[0m\u001b[0;34m(\u001b[0m\u001b[0mself\u001b[0m\u001b[0;34m)\u001b[0m\u001b[0;34m:\u001b[0m\u001b[0;34m\u001b[0m\u001b[0;34m\u001b[0m\u001b[0m\n\u001b[0;32m----> 3\u001b[0;31m         \u001b[0mself\u001b[0m\u001b[0;34m.\u001b[0m\u001b[0mindivids\u001b[0m \u001b[0;34m=\u001b[0m \u001b[0;34m[\u001b[0m\u001b[0mAI\u001b[0m\u001b[0;34m(\u001b[0m\u001b[0;34m)\u001b[0m \u001b[0;32mfor\u001b[0m \u001b[0mi\u001b[0m \u001b[0;32min\u001b[0m \u001b[0mrange\u001b[0m\u001b[0;34m(\u001b[0m\u001b[0;36m25\u001b[0m\u001b[0;34m)\u001b[0m\u001b[0;34m]\u001b[0m\u001b[0;34m\u001b[0m\u001b[0;34m\u001b[0m\u001b[0m\n\u001b[0m\u001b[1;32m      4\u001b[0m         \u001b[0mself\u001b[0m\u001b[0;34m.\u001b[0m\u001b[0mfoods\u001b[0m \u001b[0;34m=\u001b[0m \u001b[0;34m[\u001b[0m\u001b[0mFood\u001b[0m\u001b[0;34m(\u001b[0m\u001b[0;34m)\u001b[0m \u001b[0;32mfor\u001b[0m \u001b[0mi\u001b[0m \u001b[0;32min\u001b[0m \u001b[0mrange\u001b[0m\u001b[0;34m(\u001b[0m\u001b[0;36m200\u001b[0m\u001b[0;34m)\u001b[0m\u001b[0;34m]\u001b[0m\u001b[0;34m\u001b[0m\u001b[0;34m\u001b[0m\u001b[0m\n\u001b[1;32m      5\u001b[0m \u001b[0;34m\u001b[0m\u001b[0m\n",
            "\u001b[0;32m<ipython-input-5-48d6f2886ec2>\u001b[0m in \u001b[0;36m__init__\u001b[0;34m(self)\u001b[0m\n\u001b[1;32m     11\u001b[0m         \u001b[0mself\u001b[0m\u001b[0;34m.\u001b[0m\u001b[0mdefend\u001b[0m \u001b[0;34m=\u001b[0m \u001b[0mrandom\u001b[0m\u001b[0;34m.\u001b[0m\u001b[0mrandint\u001b[0m\u001b[0;34m(\u001b[0m\u001b[0;36m0\u001b[0m\u001b[0;34m,\u001b[0m \u001b[0;36m10\u001b[0m\u001b[0;34m)\u001b[0m\u001b[0;34m\u001b[0m\u001b[0;34m\u001b[0m\u001b[0m\n\u001b[1;32m     12\u001b[0m         \u001b[0mself\u001b[0m\u001b[0;34m.\u001b[0m\u001b[0menergy\u001b[0m \u001b[0;34m=\u001b[0m \u001b[0;36m100\u001b[0m\u001b[0;34m\u001b[0m\u001b[0;34m\u001b[0m\u001b[0m\n\u001b[0;32m---> 13\u001b[0;31m         \u001b[0mself\u001b[0m\u001b[0;34m.\u001b[0m\u001b[0mimage\u001b[0m \u001b[0;34m=\u001b[0m \u001b[0mpygame\u001b[0m\u001b[0;34m.\u001b[0m\u001b[0mtransform\u001b[0m\u001b[0;34m.\u001b[0m\u001b[0mscale\u001b[0m\u001b[0;34m(\u001b[0m\u001b[0mpygame\u001b[0m\u001b[0;34m.\u001b[0m\u001b[0mimage\u001b[0m\u001b[0;34m.\u001b[0m\u001b[0mload\u001b[0m\u001b[0;34m(\u001b[0m\u001b[0;34m'individ.png'\u001b[0m\u001b[0;34m)\u001b[0m\u001b[0;34m.\u001b[0m\u001b[0mconvert_alpha\u001b[0m\u001b[0;34m(\u001b[0m\u001b[0;34m)\u001b[0m\u001b[0;34m,\u001b[0m \u001b[0;34m(\u001b[0m\u001b[0;36m20\u001b[0m\u001b[0;34m,\u001b[0m \u001b[0;36m20\u001b[0m\u001b[0;34m)\u001b[0m\u001b[0;34m)\u001b[0m\u001b[0;34m\u001b[0m\u001b[0;34m\u001b[0m\u001b[0m\n\u001b[0m\u001b[1;32m     14\u001b[0m         \u001b[0mself\u001b[0m\u001b[0;34m.\u001b[0m\u001b[0mrect\u001b[0m \u001b[0;34m=\u001b[0m \u001b[0mself\u001b[0m\u001b[0;34m.\u001b[0m\u001b[0mimage\u001b[0m\u001b[0;34m.\u001b[0m\u001b[0mget_rect\u001b[0m\u001b[0;34m(\u001b[0m\u001b[0mcenter\u001b[0m\u001b[0;34m=\u001b[0m\u001b[0;34m(\u001b[0m\u001b[0mself\u001b[0m\u001b[0;34m.\u001b[0m\u001b[0mx\u001b[0m\u001b[0;34m,\u001b[0m \u001b[0mself\u001b[0m\u001b[0;34m.\u001b[0m\u001b[0my\u001b[0m\u001b[0;34m)\u001b[0m\u001b[0;34m)\u001b[0m\u001b[0;34m\u001b[0m\u001b[0;34m\u001b[0m\u001b[0m\n\u001b[1;32m     15\u001b[0m \u001b[0;34m\u001b[0m\u001b[0m\n",
            "\u001b[0;31mFileNotFoundError\u001b[0m: No file 'individ.png' found in working directory '/content'."
          ]
        }
      ]
    },
    {
      "cell_type": "code",
      "metadata": {
        "id": "GTIn5WfvfbOs"
      },
      "source": [
        ""
      ],
      "execution_count": null,
      "outputs": []
    }
  ]
}